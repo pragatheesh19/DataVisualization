import pandas as pd
import matplotlib.pyplot as plt
import seaborn as sns
from matplotlib.sankey import Sankey  # Import Sankey from matplotlib
import plotly.express as px

# Load the dataset
df = pd.read_csv('/Users/suhaibshafijan/Desktop/Python project/electionlist.csv')

# Define the row names for "GENERAL VOTES" column
general_votes_row_names = [
    31644, 745810, 312883, 638241, 317797, 14580, 397420, 13547, 13036, 577603,
    304553, 107592, 552898, 278241, 254094, 443003, 433790, 186278, 532493, 373696,
    89575, 651805, 424890, 50346, 747788, 505885, 53859, 27279, 21147, 493204,
    309328, 31852, 10397, 54389, 430455, 209836, 15311, 10059
]

# Define the row names for "PARTY" column
party_row_names = [
    "VBA", "BJP", "INC", "BJP", "INC", "NOTA", "INC", "BSP", "APoI", "BJP",
    "BSP", "INC", "BJP", "VBA", "INC", "CPI(M)", "INC", "BJP", "INC", "CPI(M)",
    "BDJS", "BJP", "BSP", "INC", "BJP", "AITC", "RSP", "INC", "NOTA", "BJP",
    "SP", "INC", "CPI(M)", "TVC", "BJP", "INC", "NOTA", "BSP"
]

# Display the first few rows of the dataframe to understand its structure
print(df.head())

# Analyzing Election Data

# Filter the data for the rows corresponding to the provided row names
df_filtered = df[df['GENERAL\nVOTES'].isin(general_votes_row_names)].copy()  

# Add the row names for "PARTY" column to the filtered dataframe
df_filtered['PARTY'] = party_row_names

# Calculate voter turnout rate for each constituency
df_filtered['VOTER_TURNOUT_RATE'] = (df_filtered['GENERAL\nVOTES'] / df_filtered['TOTAL ELECTORS']) * 100
# Visualizing Election Results

# Heatmap for election results by party
pivot_table = df_filtered.pivot_table(index='STATE', columns='PARTY', values='GENERAL\nVOTES', aggfunc='sum', fill_value=0)
plt.figure(figsize=(12, 8))
sns.heatmap(pivot_table, cmap='coolwarm', annot=True, fmt='d', cbar_kws={'label': 'General Votes'})
plt.title('Election Results by State and Party (Heatmap)')
plt.xlabel('Party')
plt.ylabel('State')
plt.tight_layout()
plt.show()

#Stacked bar chart for election results by party and Total Votes
fig_stacked_bar = px.bar(df_filtered,
                         x='PARTY',
                         y='GENERAL\nVOTES',
                         color='TOTAL\nVOTES',
                         barmode='stack',
                         title='Election Results by Party and Gender (Interactive Stacked Bar Chart)',
                         labels={'GENERAL\nVOTES': 'General Votes', 'PARTY': 'Party'},
                         hover_data={'GENERAL\nVOTES': True, 'VOTER_TURNOUT_RATE': True},
                         color_discrete_map={'M': 'blue', 'F': 'red'})  # Map gender to colors
fig_stacked_bar.show()

# Sankey diagram for voter flow between parties
sankey_data = df_filtered.groupby(['PARTY', 'GENDER']).size().reset_index(name='COUNT')

# Create Sankey diagram
sankey = Sankey()
sankey.add(flows=sankey_data['COUNT'], labels=sankey_data['PARTY'] + ' ' + sankey_data['GENDER'])
sankey.finish()
plt.title('Voter Flow between Parties')
plt.show()

# Additional Interactive Charts

# Interactive pie chart for election results by party
fig_pie = px.pie(df_filtered,
                 names='PARTY',
                 values='GENERAL\nVOTES',
                 hover_data={'GENERAL\nVOTES': True, 'VOTER_TURNOUT_RATE': True},
                 title='Election Results by Party (Interactive Pie Chart)',
                 labels={'GENERAL\nVOTES': 'General Votes'},
                 color_discrete_map={'BJP': 'blue', 'INC': 'green', 'VBA': 'red', 'BSP': 'yellow'})  # Map party to colors
fig_pie.show()
# Interactive bubble chart for election results by state and voter turnout rate
fig_bubble = px.scatter(df_filtered,
                        x='STATE',
                        y='VOTER_TURNOUT_RATE',
                        size='GENERAL\nVOTES',
                        color='PARTY',
                        hover_name='STATE',
                        title='Election Results by State and Voter Turnout Rate (Interactive Bubble Chart)',
                        labels={'GENERAL\nVOTES': 'General Votes', 'VOTER_TURNOUT_RATE': 'Voter Turnout Rate'},
                        color_discrete_map={'BJP': 'blue', 'INC': 'green', 'VBA': 'red', 'BSP': 'yellow'})  # Map party to colors
fig_bubble.show()

# Interactive radar chart for election results by party and voter turnout rate
fig_radar = px.line_polar(df_filtered, r='VOTER_TURNOUT_RATE', theta='PARTY', line_close=True,
                          title='Election Results by Party and Voter Turnout Rate (Interactive Radar Chart)',
                          color='PARTY', color_discrete_map={'BJP': 'blue', 'INC': 'green', 'VBA': 'red', 'BSP': 'yellow'})  # Map party to colors
fig_radar.show()

# Interactive line chart for election results by state and total votes
fig_line = px.line(df_filtered,
                   x='STATE',
                   y='TOTAL\nVOTES',
                   color='PARTY',
                   title='Election Results by State and Total Votes (Interactive Line Chart)',
                   labels={'TOTAL\nVOTES': 'Total Votes', 'STATE': 'State'},
                   color_discrete_map={'BJP': 'blue', 'INC': 'green', 'VBA': 'red', 'BSP': 'yellow'})  # Map party to colors
fig_line.show()
